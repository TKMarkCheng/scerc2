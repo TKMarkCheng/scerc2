{
 "cells": [
  {
   "cell_type": "code",
   "execution_count": 3,
   "metadata": {},
   "outputs": [],
   "source": [
    "from python_code import meta"
   ]
  },
  {
   "cell_type": "code",
   "execution_count": 6,
   "metadata": {},
   "outputs": [
    {
     "name": "stdout",
     "output_type": "stream",
     "text": [
      "Odds Ratio of Mortality in Total Cancer Cohort = 1.64 [1.36-1.96]\n",
      "Number of study arms: 17\n",
      "Heterogeneity: X²(16), p<.01\n",
      " \n",
      "Odds Ratio of Hospitalisation in Total Cancer Cohort = 1.42 [1.04-1.96]\n",
      "Number of study arms: 7\n",
      "Heterogeneity: X²(6), p<.01\n",
      " \n",
      "Odds Ratio of ICU Admission in Total Cancer Cohort = 1.24 [0.95-1.62]\n",
      "Number of study arms: 12\n",
      "Heterogeneity: X²(11), p<.01\n",
      " \n",
      "Odds Ratio of Severe Disease in Total Cancer Cohort = 0.99 [0.84-1.17]\n",
      "Number of study arms: 11\n",
      "Heterogeneity: X²(10), p=.28\n",
      " \n",
      "Odds Ratio of Mortality in Breast = 1.31 [0.89-1.93]\n",
      "Number of study arms: 3\n",
      "Heterogeneity: X²(2), p=.25\n",
      " \n",
      "Odds Ratio of Mortality in Lower GI = 1.69 [1.25-2.29]\n",
      "Number of study arms: 4\n",
      "Heterogeneity: X²(3), p=.43\n",
      " \n",
      "Odds Ratio of Mortality in Metastatic = 3.60 [1.07-12.05]\n",
      "Number of study arms: 2\n",
      "Heterogeneity: X²(1), p<.01\n",
      " \n",
      "Hazard Ratio of Mortality in Total Cancer Cohort = 1.91 [1.26-2.87]\n",
      "Number of study arms: 5\n",
      "Heterogeneity: X²(4), p=.63\n",
      " \n",
      "Hazard Ratio of ICU Admission in Total Cancer Cohort = 2.18 [0.88-5.38]\n",
      "Number of study arms: 5\n",
      "Heterogeneity: X²(4), p=.02\n",
      " \n"
     ]
    },
    {
     "data": {
      "text/html": [
       "<div>\n",
       "<style scoped>\n",
       "    .dataframe tbody tr th:only-of-type {\n",
       "        vertical-align: middle;\n",
       "    }\n",
       "\n",
       "    .dataframe tbody tr th {\n",
       "        vertical-align: top;\n",
       "    }\n",
       "\n",
       "    .dataframe thead th {\n",
       "        text-align: right;\n",
       "    }\n",
       "</style>\n",
       "<table border=\"1\" class=\"dataframe\">\n",
       "  <thead>\n",
       "    <tr style=\"text-align: right;\">\n",
       "      <th></th>\n",
       "      <th>Reference</th>\n",
       "      <th>Cohort</th>\n",
       "      <th>outcome</th>\n",
       "      <th>statistic</th>\n",
       "      <th>value</th>\n",
       "      <th>se</th>\n",
       "      <th>n</th>\n",
       "      <th>ncancer</th>\n",
       "      <th>ncontrol</th>\n",
       "      <th>vax50</th>\n",
       "      <th>wt</th>\n",
       "      <th>alpha</th>\n",
       "      <th>delta</th>\n",
       "      <th>omicron</th>\n",
       "    </tr>\n",
       "  </thead>\n",
       "  <tbody>\n",
       "  </tbody>\n",
       "</table>\n",
       "</div>"
      ],
      "text/plain": [
       "Empty DataFrame\n",
       "Columns: [Reference, Cohort, outcome, statistic, value, se, n, ncancer, ncontrol, vax50, wt, alpha, delta, omicron]\n",
       "Index: []"
      ]
     },
     "execution_count": 6,
     "metadata": {},
     "output_type": "execute_result"
    }
   ],
   "source": [
    "meta('Total Cancer Cohort', 'Mortality', 'OR', determine_var_from='se',log_transform=True, show_data=False)\n",
    "meta('Total Cancer Cohort', 'Hospitalisation', 'OR', determine_var_from='se',log_transform=True, show_data=False)\n",
    "meta('Total Cancer Cohort', 'ICU Admission', 'OR', determine_var_from='se',log_transform=True, show_data=False)\n",
    "meta('Total Cancer Cohort', 'Severe Disease', 'OR', determine_var_from='se',log_transform=True, show_data=False)\n",
    "\n",
    "meta('Breast', 'Mortality', 'OR', determine_var_from='se',log_transform=True, show_data=False)\n",
    "meta('Lower GI', 'Mortality', 'OR', determine_var_from='se',log_transform=True, show_data=False)\n",
    "meta('Metastatic', 'Mortality', 'OR', determine_var_from='se',log_transform=True, show_data=False)\n",
    "\n",
    "meta('Total Cancer Cohort', 'Mortality', 'HR', determine_var_from='se',log_transform=True, show_data=False)\n",
    "meta('Total Cancer Cohort', 'ICU Admission', 'HR', determine_var_from='se',log_transform=True, show_data=False)"
   ]
  }
 ],
 "metadata": {
  "kernelspec": {
   "display_name": "SCERC2",
   "language": "python",
   "name": "python3"
  },
  "language_info": {
   "codemirror_mode": {
    "name": "ipython",
    "version": 3
   },
   "file_extension": ".py",
   "mimetype": "text/x-python",
   "name": "python",
   "nbconvert_exporter": "python",
   "pygments_lexer": "ipython3",
   "version": "3.12.3"
  }
 },
 "nbformat": 4,
 "nbformat_minor": 2
}
